{
 "cells": [
  {
   "cell_type": "code",
   "execution_count": 5,
   "outputs": [],
   "source": [
    "import os\n",
    "import pandas as pd\n",
    "import matplotlib.pyplot as plt\n",
    "from ggplot import *\n",
    "from fpdf import FPDF\n",
    "from text import getBericht1, gethighestyear\n",
    "from grafiken import create_line_chart, createtable1\n",
    "\n"
   ],
   "metadata": {
    "collapsed": false
   }
  },
  {
   "cell_type": "code",
   "execution_count": 6,
   "outputs": [],
   "source": [
    "def add_text(text_class,text,page_number=\"\"):\n",
    "    if text_class == \"title\":\n",
    "        pdf.set_font(\"UniversLTStd-Light\", size=16)\n",
    "        pdf.set_left_margin(61.6)\n",
    "        pdf.multi_cell(125,8, text, align='L')\n",
    "\n",
    "    if text_class == \"header\":\n",
    "        pdf.set_font(\"UniversLTStd-Light\", size=8.5)\n",
    "        pdf.cell(0, 5, \"Wohnungsmietpreiserhebung in der Stadt Bern im November 2022\", ln=True, align='R',border=\"B\")\n",
    "\n",
    "\n",
    "    if text_class == \"footer\":\n",
    "        pdf.set_font(\"UniversLTStd-Light\", size=8.5)\n",
    "        pdf.set_left_margin(19)\n",
    "        pdf.cell(0, 1, \"Statistik Stadt Bern\", ln=True, align='L')\n",
    "\n",
    "        pdf.set_font(\"UniversLTStd-Light\", size=12)\n",
    "        pdf.set_x(0)\n",
    "        pdf.set_right_margin(18)\n",
    "        pdf.image(\"Element 1.png\", x=177.65, y=285.8)\n",
    "        pdf.cell(0, 1, page_number, ln=True, align='R')\n",
    "\n",
    "\n",
    "    if text_class == \"subtitle\":\n",
    "        pdf.set_font(\"UniversLTStd-Light\", size=14.5)\n",
    "        pdf.set_left_margin(61.6)\n",
    "        pdf.multi_cell(125,8, text, align='L')\n",
    "\n",
    "    if text_class == \"text\":\n",
    "        pdf.set_font(\"UniversLTStd-Light\", size=11)\n",
    "        pdf.set_left_margin(61.6)\n",
    "        pdf.set_text_color(0,0,0)\n",
    "        pdf.multi_cell(131.8,4.5, text, align='J')\n",
    "\n",
    "    if text_class == \"info\":\n",
    "        pdf.set_font(\"UniversLTStd-LightObl\", size=9)\n",
    "        pdf.set_x(2)\n",
    "        pdf.set_left_margin(18)\n",
    "        pdf.ln(-25)\n",
    "        pdf.set_text_color(223,66,56)\n",
    "        pdf.multi_cell(40,4.5, text, align='L')\n",
    "\n",
    "    if text_class == \"cover_text\":\n",
    "        pdf.set_font(\"UniversLTStd-Bold\", size=16)\n",
    "        pdf.set_x(0)\n",
    "        pdf.set_left_margin(37)\n",
    "        pdf.multi_cell(85,7.5, text, align='L')\n",
    "\n",
    "def add_reference(text_class,text,reference_title=\"\",reference_origin=\"\"):\n",
    "    if text_class == \"reference\":\n",
    "        pdf.set_font(\"UniversLTStd-Light\", size=11)\n",
    "        pdf.set_text_color(0,0,0)\n",
    "        pdf.set_x(0)\n",
    "        pdf.set_left_margin(80)\n",
    "        pdf.multi_cell(120,4.5, text, align='L')\n",
    "        pdf.set_font(\"UniversLTStd-Light\", size=9)\n",
    "        pdf.multi_cell(120,4.5, reference_origin, align='L')\n",
    "\n",
    "        pdf.set_font(\"UniversLTStd-Light\", size=11)\n",
    "        pdf.set_x(0)\n",
    "        pdf.set_left_margin(61.6)\n",
    "        pdf.ln(-14)\n",
    "        pdf.multi_cell(40,4.5, reference_title, align='L')\n",
    "\n",
    "def add_image(image):\n",
    "    pdf.set_x(0)\n",
    "    pdf.set_left_margin(45.6)\n",
    "    pdf.image(image)"
   ],
   "metadata": {
    "collapsed": false
   }
  },
  {
   "cell_type": "code",
   "execution_count": 7,
   "outputs": [],
   "source": [
    "# Create a PDF report with text, graph, and table\n",
    "pdf = FPDF('P', 'mm', 'A4')\n",
    "pdf.add_font('UniversLTStd-Light','', 'UniversLTStd-Light.ttf', uni=True)\n",
    "pdf.add_font('UniversLTStd-Bold','', 'UniversLTStd-Bold.ttf', uni=True)\n",
    "pdf.add_font('UniversLTStd-LightObl','', 'UniversLTStd-LightObl.ttf', uni=True)\n",
    "\n",
    "left_margin = 19\n",
    "right_margin = 18\n",
    "top_margin = 6.35\n",
    "pdf.set_margins(left_margin, top_margin, right_margin)\n",
    "pdf.set_auto_page_break(True,5)\n",
    "\n",
    "pdf.add_page()\n",
    "pdf.image('Deckblatt.png', x=0, y=0, w=210, h=297)\n",
    "pdf.ln(48)\n",
    "add_text(\"cover_text\",text=\"Statistik Stadt Bern\")\n",
    "pdf.ln(2)\n",
    "add_text(\"cover_text\",text=\"Wohnungsmietpreiserhebung in der Stadt Bern im November \"+str(gethighestyear()))\n",
    "\n",
    "\n",
    "pdf.add_page()\n",
    "pdf.set_font(\"Arial\", size=12)\n",
    "\n",
    "#header-test\n",
    "add_text(\"header\",\"Wohnungsmietpreiserhebung in der Stadt Bern im November 2022\")\n",
    "\n",
    "# Right-aligned header\n",
    "pdf.ln(272)\n",
    "\n",
    "\n",
    "add_text(\"footer\",\"Statistik Stadt Bern\",\"3\")\n",
    "pdf.ln(-255)\n",
    "\n",
    "# Add text\n",
    "add_text(\"title\",\"Wohnungsmietpreiserhebung in der Stadt Bern im November 2022\")\n",
    "pdf.ln(4.5)\n",
    "\n",
    "add_text(\"subtitle\",\"Berner Index der Wohnungsmietpreise\")\n",
    "\n",
    "pdf.ln(4.5)\n",
    "add_text(\"text\",getBericht1())\n",
    "\n",
    "\n",
    "add_text(\"info\",\"Anstieg innert Jahresfrist um 1,1%\")\n",
    "\n",
    "pdf.ln(19)\n",
    "\n",
    "add_reference(\"reference\",\"Berner Index der Wohnungsmietpreise nach Wohnungsgrösse November 2018 bis 2022\",\"Tabelle 1:\",\"(Basis: November 2003 = 100)\")\n",
    "\n",
    "#createtable1()\n",
    "pdf.image('table.png', x=x, y=y, w=image_width_mm, h=image_height_mm)\n",
    "pdf.ln(20)\n",
    "#create_line_chart()\n",
    "#pdf.image(\"./diagrams/linien_diagramm.png\")\n",
    "\n",
    "#pdf.image(\"./table.png\")\n",
    "#pdf.ln(80)\n",
    "\n",
    "# Add the table\n",
    "#pdf.cell(0, 10, \"Switzerland vs Austria Inflation (2019-2023)\", ln=True, align='C')\n"
   ],
   "metadata": {
    "collapsed": false
   }
  },
  {
   "cell_type": "code",
   "execution_count": 7,
   "outputs": [],
   "source": [],
   "metadata": {
    "collapsed": false
   }
  },
  {
   "cell_type": "code",
   "execution_count": 7,
   "outputs": [],
   "source": [],
   "metadata": {
    "collapsed": false
   }
  },
  {
   "cell_type": "code",
   "execution_count": 8,
   "outputs": [
    {
     "data": {
      "text/plain": "''"
     },
     "execution_count": 8,
     "metadata": {},
     "output_type": "execute_result"
    }
   ],
   "source": [
    "pdf.output(\"inflation_report.pdf\", 'F')"
   ],
   "metadata": {
    "collapsed": false
   }
  },
  {
   "cell_type": "code",
   "execution_count": 8,
   "outputs": [],
   "source": [],
   "metadata": {
    "collapsed": false
   }
  }
 ],
 "metadata": {
  "kernelspec": {
   "display_name": "Python 3",
   "language": "python",
   "name": "python3"
  },
  "language_info": {
   "codemirror_mode": {
    "name": "ipython",
    "version": 2
   },
   "file_extension": ".py",
   "mimetype": "text/x-python",
   "name": "python",
   "nbconvert_exporter": "python",
   "pygments_lexer": "ipython2",
   "version": "2.7.6"
  }
 },
 "nbformat": 4,
 "nbformat_minor": 0
}
