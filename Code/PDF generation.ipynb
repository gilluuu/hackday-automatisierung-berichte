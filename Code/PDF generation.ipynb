{
 "cells": [
  {
   "cell_type": "code",
   "execution_count": 501,
   "outputs": [],
   "source": [
    "import os\n",
    "import pandas as pd\n",
    "import matplotlib.pyplot as plt\n",
    "from ggplot import *\n",
    "from fpdf import FPDF\n",
    "from text import getBericht1\n",
    "\n"
   ],
   "metadata": {
    "collapsed": false
   }
  },
  {
   "cell_type": "code",
   "execution_count": 502,
   "outputs": [],
   "source": [
    "def add_text(text_class,text,page_number=\"\"):\n",
    "    if text_class == \"title\":\n",
    "        pdf.set_font(\"UniversLTStd-Light\", size=16)\n",
    "        pdf.set_left_margin(61.6)\n",
    "        pdf.multi_cell(125,8, text, align='L')\n",
    "\n",
    "    if text_class == \"header\":\n",
    "        pdf.set_font(\"UniversLTStd-Light\", size=8.5)\n",
    "        pdf.cell(0, 5, \"Wohnungsmietpreiserhebung in der Stadt Bern im November 2022\", ln=True, align='R',border=\"B\")\n",
    "\n",
    "\n",
    "    if text_class == \"footer\":\n",
    "        pdf.set_font(\"UniversLTStd-Light\", size=8.5)\n",
    "        pdf.set_left_margin(19)\n",
    "        pdf.cell(0, 1, \"Statistik Stadt Bern\", ln=True, align='L')\n",
    "\n",
    "        pdf.set_font(\"UniversLTStd-Light\", size=12)\n",
    "        pdf.set_x(0)\n",
    "        pdf.set_right_margin(18)\n",
    "        pdf.image(\"Element 1.png\", x=177.65, y=285.8)\n",
    "        pdf.cell(0, 1, page_number, ln=True, align='R')\n",
    "\n",
    "\n",
    "    if text_class == \"subtitle\":\n",
    "        pdf.set_font(\"UniversLTStd-Light\", size=14.5)\n",
    "        pdf.set_left_margin(61.6)\n",
    "        pdf.multi_cell(125,8, text, align='L')\n",
    "\n",
    "    if text_class == \"text\":\n",
    "        pdf.set_font(\"UniversLTStd-Light\", size=11)\n",
    "        pdf.set_left_margin(61.6)\n",
    "        pdf.set_text_color(0,0,0)\n",
    "        pdf.multi_cell(131.8,4.5, text, align='J')\n",
    "\n",
    "    if text_class == \"info\":\n",
    "        pdf.set_font(\"UniversLTStd-LightObl\", size=9)\n",
    "        pdf.set_x(2)\n",
    "        pdf.set_left_margin(18)\n",
    "        pdf.ln(-27)\n",
    "        pdf.set_text_color(223,66,56)\n",
    "        pdf.multi_cell(40,4.5, text, align='L')\n",
    "\n"
   ],
   "metadata": {
    "collapsed": false
   }
  },
  {
   "cell_type": "code",
   "execution_count": 503,
   "outputs": [],
   "source": [
    "\n",
    "# Dummy data for the example\n",
    "data = {\n",
    "    'Year': list(range(2000, 2024)),\n",
    "    'Switzerland_Inflation': [1.0, 1.1, 1.3, 1.2, 1.5, 1.7, 1.6, 1.8, 1.9, 1.4, 1.3, 1.5, 1.6, 1.5, 1.7, 1.6, 1.9, 1.8, 1.7, 2.0, 2.1, 2.2, 2.3, 2.4],\n",
    "    'Austria_Inflation': [1.5, 1.7, 1.8, 1.9, 2.0, 2.1, 2.2, 2.3, 2.4, 2.5, 2.6, 2.7, 2.8, 2.9, 3.0, 3.1, 3.2, 3.3, 3.4, 3.5, 3.6, 3.7, 3.8, 3.9]\n",
    "}\n",
    "\n",
    "df = pd.DataFrame(data)\n",
    "\n",
    "# Create a ggplot graph of Switzerland inflation from 2000 to 2023\n",
    "inflation_graph = ggplot(aes(x='Year', y='Switzerland_Inflation'), data=df) + \\\n",
    "    geom_line(color='blue') + \\\n",
    "    labs(title='Switzerland Inflation (2000-2023)',\n",
    "         x='Year',\n",
    "         y='Inflation Rate (%)')\n",
    "\n",
    "# Save the ggplot graph as an image\n",
    "inflation_graph.save('inflation_graph.png', width=6, height=4, dpi=100)\n",
    "\n",
    "# Create a table for Switzerland vs Austria inflation for the last 5 years\n",
    "table_data = df.tail(5).set_index('Year').transpose().reset_index()\n",
    "table_data.columns = ['Country'] + [str(y) for y in range(2019, 2024)]\n",
    "\n",
    "# Save the table as an image\n",
    "fig, ax = plt.subplots()\n",
    "ax.axis('tight')\n",
    "ax.axis('off')\n",
    "table = ax.table(cellText=table_data.values, colLabels=table_data.columns, cellLoc='center', loc='center')\n",
    "table.auto_set_font_size(False)\n",
    "table.set_fontsize(10)\n",
    "fig.tight_layout()\n",
    "plt.savefig('inflation_table.png', dpi=100)\n",
    "\n",
    "\n",
    "# Create a PDF report with text, graph, and table\n",
    "pdf = FPDF('P', 'mm', 'A4')\n",
    "pdf.add_font('UniversLTStd-Light','', 'UniversLTStd-Light.ttf', uni=True)\n",
    "pdf.add_font('UniversLTStd-Bold','', 'UniversLTStd-Bold.ttf', uni=True)\n",
    "pdf.add_font('UniversLTStd-LightObl','', 'UniversLTStd-LightObl.ttf', uni=True)\n",
    "\n",
    "left_margin = 19\n",
    "right_margin = 18\n",
    "top_margin = 6.35\n",
    "pdf.set_margins(left_margin, top_margin, right_margin)\n",
    "pdf.set_auto_page_break(True,5)\n",
    "pdf.add_page()\n",
    "pdf.set_font(\"Arial\", size=12)\n",
    "\n",
    "#header-test\n",
    "add_text(\"header\",\"Wohnungsmietpreiserhebung in der Stadt Bern im November 2022\")\n",
    "\n",
    "# Right-aligned header\n",
    "pdf.ln(272)\n",
    "\n",
    "\n",
    "add_text(\"footer\",\"Statistik Stadt Bern\",\"3\")\n",
    "pdf.ln(-255)\n",
    "\n",
    "# Add text\n",
    "add_text(\"title\",\"Wohnungsmietpreiserhebung in der Stadt Bern im November 2022\")\n",
    "pdf.ln(4.5)\n",
    "\n",
    "add_text(\"subtitle\",\"Berner Index der Wohnungsmietpreise\")\n",
    "\n",
    "pdf.ln(4.5)\n",
    "add_text(\"text\",getBericht1())\n",
    "\n",
    "\n",
    "add_text(\"info\",\"Anstieg innert Jahresfrist um 1,1%\")\n",
    "\n",
    "pdf.ln(20)\n",
    "\n",
    "# Add the graph\n",
    "#pdf.cell(0, 10, \"Switzerland Inflation (2000-2023)\", ln=True, align='C')\n",
    "#pdf.image(\"inflation_graph.png\", x=25, y=pdf.get_y(), w=160)\n",
    "#pdf.ln(80)\n",
    "\n",
    "# Add the table\n",
    "#pdf.cell(0, 10, \"Switzerland vs Austria Inflation (2019-2023)\", ln=True, align='C')\n"
   ],
   "metadata": {
    "collapsed": false
   }
  },
  {
   "cell_type": "code",
   "execution_count": 504,
   "outputs": [
    {
     "data": {
      "text/plain": "''"
     },
     "execution_count": 504,
     "metadata": {},
     "output_type": "execute_result"
    }
   ],
   "source": [
    "\"\"\"pdf.image(\"inflation_table.png\", x=25, y=pdf.get_y(), w=160)\n",
    "pdf.ln(80)RuntimeError: FPDF error: Undefined font: universltstd light\n",
    "pdf.cell(0, 10, \"Salary Bar Chart\", ln=True, align='C')\n",
    "pdf.image(\"salary_bar_chart.png\", x=25, y=pdf.get_y(), w=160)\n",
    "pdf.ln(80)\"\"\"\n",
    "pdf.output(\"inflation_report.pdf\", 'F')"
   ],
   "metadata": {
    "collapsed": false
   }
  },
  {
   "cell_type": "code",
   "execution_count": 504,
   "outputs": [],
   "source": [],
   "metadata": {
    "collapsed": false
   }
  },
  {
   "cell_type": "code",
   "execution_count": 504,
   "outputs": [],
   "source": [],
   "metadata": {
    "collapsed": false
   }
  }
 ],
 "metadata": {
  "kernelspec": {
   "display_name": "Python 3",
   "language": "python",
   "name": "python3"
  },
  "language_info": {
   "codemirror_mode": {
    "name": "ipython",
    "version": 2
   },
   "file_extension": ".py",
   "mimetype": "text/x-python",
   "name": "python",
   "nbconvert_exporter": "python",
   "pygments_lexer": "ipython2",
   "version": "2.7.6"
  }
 },
 "nbformat": 4,
 "nbformat_minor": 0
}
